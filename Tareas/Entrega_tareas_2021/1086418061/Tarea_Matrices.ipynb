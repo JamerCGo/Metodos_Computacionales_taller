{
 "cells": [
  {
   "cell_type": "markdown",
   "metadata": {
    "id": "aQA0TlHnM3lZ"
   },
   "source": [
    "1. Estudiar las operaciones basicas con matrices.\n",
    "2. Suma de matrices\n",
    "3. Resta de matrices\n",
    "4. Multiplicacion por un escalar.\n",
    "5. Determinar el determinante de una matriz\n",
    "6. Determinar la inversa de una matriz\n",
    "7. Diagonizacion de matrices\n"
   ]
  },
  {
   "cell_type": "code",
   "execution_count": 1,
   "metadata": {
    "id": "uqXzHxN3Od4x"
   },
   "outputs": [],
   "source": [
    "#librerias\n",
    "import numpy as np\n"
   ]
  },
  {
   "cell_type": "code",
   "execution_count": 2,
   "metadata": {
    "id": "nROZSMUxOFfr"
   },
   "outputs": [],
   "source": [
    "# Definicion de una matriz cuadra 2x2 con numeros aleatorios enteros\n"
   ]
  },
  {
   "cell_type": "code",
   "execution_count": 3,
   "metadata": {
    "id": "ltrp-tyCOFcS"
   },
   "outputs": [],
   "source": [
    "c1 = np.array([1, 1])\n",
    "c2 = np.array([3, 4])"
   ]
  },
  {
   "cell_type": "code",
   "execution_count": 4,
   "metadata": {
    "colab": {
     "base_uri": "https://localhost:8080/"
    },
    "id": "J0JqrD1aOFZL",
    "outputId": "4bf15ec4-a82e-4f2f-83c2-3edf3821810f"
   },
   "outputs": [
    {
     "data": {
      "text/plain": [
       "numpy.ndarray"
      ]
     },
     "execution_count": 4,
     "metadata": {},
     "output_type": "execute_result"
    }
   ],
   "source": [
    "type(c1)"
   ]
  },
  {
   "cell_type": "code",
   "execution_count": 5,
   "metadata": {
    "id": "m_Tb_aKaOFWN"
   },
   "outputs": [],
   "source": [
    "m = np.array([c1,c2])"
   ]
  },
  {
   "cell_type": "code",
   "execution_count": 6,
   "metadata": {
    "colab": {
     "base_uri": "https://localhost:8080/"
    },
    "id": "KmFJK4EYOFTV",
    "outputId": "5050ab7d-50b6-4cf0-93d3-9e246261519a"
   },
   "outputs": [
    {
     "data": {
      "text/plain": [
       "numpy.ndarray"
      ]
     },
     "execution_count": 6,
     "metadata": {},
     "output_type": "execute_result"
    }
   ],
   "source": [
    "type(m)"
   ]
  },
  {
   "cell_type": "code",
   "execution_count": 7,
   "metadata": {
    "id": "mzCmWfmPOFQk"
   },
   "outputs": [],
   "source": [
    "M = np.asmatrix(m)"
   ]
  },
  {
   "cell_type": "code",
   "execution_count": 8,
   "metadata": {
    "colab": {
     "base_uri": "https://localhost:8080/"
    },
    "id": "sXTnQrNKOFN8",
    "outputId": "ccf37802-b98a-48a2-ecc7-f36c2d3145e4"
   },
   "outputs": [
    {
     "data": {
      "text/plain": [
       "array([[1, 1],\n",
       "       [3, 4]])"
      ]
     },
     "execution_count": 8,
     "metadata": {},
     "output_type": "execute_result"
    }
   ],
   "source": [
    "m"
   ]
  },
  {
   "cell_type": "code",
   "execution_count": 9,
   "metadata": {
    "colab": {
     "base_uri": "https://localhost:8080/"
    },
    "id": "SxfcQA6eOFLS",
    "outputId": "d3d59c2c-a29f-4ae0-bade-1cf8debfd732"
   },
   "outputs": [
    {
     "data": {
      "text/plain": [
       "array([3, 4])"
      ]
     },
     "execution_count": 9,
     "metadata": {},
     "output_type": "execute_result"
    }
   ],
   "source": [
    "m[1]"
   ]
  },
  {
   "cell_type": "code",
   "execution_count": 10,
   "metadata": {
    "colab": {
     "base_uri": "https://localhost:8080/"
    },
    "id": "OSjwA3XXPT_b",
    "outputId": "7b3882ff-0b5e-4cc7-c3de-5fc86daac87c"
   },
   "outputs": [
    {
     "data": {
      "text/plain": [
       "array([1, 3])"
      ]
     },
     "execution_count": 10,
     "metadata": {},
     "output_type": "execute_result"
    }
   ],
   "source": [
    "m[:,0]"
   ]
  },
  {
   "cell_type": "code",
   "execution_count": 11,
   "metadata": {
    "colab": {
     "base_uri": "https://localhost:8080/"
    },
    "id": "Md5NBXGzPWOC",
    "outputId": "4affaabb-4bbe-40ac-ea1d-238f8b13d79d"
   },
   "outputs": [
    {
     "data": {
      "text/plain": [
       "array([1, 4])"
      ]
     },
     "execution_count": 11,
     "metadata": {},
     "output_type": "execute_result"
    }
   ],
   "source": [
    "m[:,1]"
   ]
  },
  {
   "cell_type": "code",
   "execution_count": 12,
   "metadata": {
    "colab": {
     "base_uri": "https://localhost:8080/"
    },
    "id": "qjSK4-DPPYZl",
    "outputId": "8f304aa1-4fcd-45f9-a26f-da98ba9fce39"
   },
   "outputs": [
    {
     "data": {
      "text/plain": [
       "(2, 2)"
      ]
     },
     "execution_count": 12,
     "metadata": {},
     "output_type": "execute_result"
    }
   ],
   "source": [
    "np.shape(m)"
   ]
  },
  {
   "cell_type": "code",
   "execution_count": 13,
   "metadata": {
    "colab": {
     "base_uri": "https://localhost:8080/"
    },
    "id": "-cxXoZK6P2q7",
    "outputId": "65265cf5-ae63-4597-dd49-5a66ff519768"
   },
   "outputs": [
    {
     "data": {
      "text/plain": [
       "array([[2, 2],\n",
       "       [6, 8]])"
      ]
     },
     "execution_count": 13,
     "metadata": {},
     "output_type": "execute_result"
    }
   ],
   "source": [
    "2*m"
   ]
  },
  {
   "cell_type": "code",
   "execution_count": 14,
   "metadata": {
    "colab": {
     "base_uri": "https://localhost:8080/"
    },
    "id": "qRZorzVpP8hu",
    "outputId": "1e132b1a-bac5-4a7d-d622-de7f406c7120"
   },
   "outputs": [
    {
     "data": {
      "text/plain": [
       "array([[ 4,  5],\n",
       "       [15, 19]])"
      ]
     },
     "execution_count": 14,
     "metadata": {},
     "output_type": "execute_result"
    }
   ],
   "source": [
    "m@m"
   ]
  },
  {
   "cell_type": "code",
   "execution_count": 15,
   "metadata": {
    "colab": {
     "base_uri": "https://localhost:8080/"
    },
    "id": "_qEmMpa1QIRH",
    "outputId": "a1ea37ec-07ad-49ad-94e3-b30c43359b1d"
   },
   "outputs": [
    {
     "data": {
      "text/plain": [
       "array([[1, 1],\n",
       "       [3, 4]])"
      ]
     },
     "execution_count": 15,
     "metadata": {},
     "output_type": "execute_result"
    }
   ],
   "source": [
    "m"
   ]
  },
  {
   "cell_type": "code",
   "execution_count": 16,
   "metadata": {
    "colab": {
     "base_uri": "https://localhost:8080/"
    },
    "id": "PYnDNFs7QEuS",
    "outputId": "379f8753-1263-4195-df53-e83fcce59ccf"
   },
   "outputs": [
    {
     "data": {
      "text/plain": [
       "0.9999999999999998"
      ]
     },
     "execution_count": 16,
     "metadata": {},
     "output_type": "execute_result"
    }
   ],
   "source": [
    "np.linalg.det(m)"
   ]
  },
  {
   "cell_type": "code",
   "execution_count": 17,
   "metadata": {
    "colab": {
     "base_uri": "https://localhost:8080/"
    },
    "id": "ktDOOi24QMj3",
    "outputId": "c0055980-011b-4d9e-a3a7-1c47abdc711b"
   },
   "outputs": [
    {
     "data": {
      "text/plain": [
       "matrix([[ 4., -1.],\n",
       "        [-3.,  1.]])"
      ]
     },
     "execution_count": 17,
     "metadata": {},
     "output_type": "execute_result"
    }
   ],
   "source": [
    "M.I"
   ]
  },
  {
   "cell_type": "code",
   "execution_count": 18,
   "metadata": {
    "colab": {
     "base_uri": "https://localhost:8080/"
    },
    "id": "NN-MA57_QVU4",
    "outputId": "439b4fca-b164-4d89-acec-2e4223b32c29"
   },
   "outputs": [
    {
     "data": {
      "text/plain": [
       "array([[ 4., -1.],\n",
       "       [-3.,  1.]])"
      ]
     },
     "execution_count": 18,
     "metadata": {},
     "output_type": "execute_result"
    }
   ],
   "source": [
    "np.linalg.inv(m)"
   ]
  },
  {
   "cell_type": "code",
   "execution_count": 19,
   "metadata": {
    "id": "AdMo8BZFQ1RT"
   },
   "outputs": [],
   "source": [
    "M = np.array([np.random.randint(0, 20, 2), np.random.randint(0, 20, 2)])"
   ]
  },
  {
   "cell_type": "code",
   "execution_count": 20,
   "metadata": {
    "id": "wA1efFPURZyc"
   },
   "outputs": [],
   "source": [
    "M1 = np.asmatrix(M)"
   ]
  },
  {
   "cell_type": "code",
   "execution_count": 21,
   "metadata": {
    "colab": {
     "base_uri": "https://localhost:8080/"
    },
    "id": "Y8GkNWHaRigh",
    "outputId": "65bb2778-1fca-462a-cc7c-ab01eb9c7ba0"
   },
   "outputs": [
    {
     "data": {
      "text/plain": [
       "matrix([[13, 10],\n",
       "        [ 0, 12]])"
      ]
     },
     "execution_count": 21,
     "metadata": {},
     "output_type": "execute_result"
    }
   ],
   "source": [
    "M1"
   ]
  },
  {
   "cell_type": "markdown",
   "metadata": {
    "id": "Wrl1pUHXSYUA"
   },
   "source": [
    "$det(M-\\lambda I) = 0$"
   ]
  },
  {
   "cell_type": "code",
   "execution_count": 22,
   "metadata": {
    "id": "bMJ90E5jSgeZ"
   },
   "outputs": [],
   "source": [
    "import scipy.linalg as la"
   ]
  },
  {
   "cell_type": "code",
   "execution_count": 23,
   "metadata": {
    "id": "_pmZY2TyStyD"
   },
   "outputs": [],
   "source": [
    "autovalor, autovector = la.eig(M1)"
   ]
  },
  {
   "cell_type": "code",
   "execution_count": 24,
   "metadata": {
    "colab": {
     "base_uri": "https://localhost:8080/"
    },
    "id": "YvyRHbgGStux",
    "outputId": "a3ca91d7-72c4-47e3-ef57-041c26d67e10"
   },
   "outputs": [
    {
     "data": {
      "text/plain": [
       "array([13.+0.j, 12.+0.j])"
      ]
     },
     "execution_count": 24,
     "metadata": {},
     "output_type": "execute_result"
    }
   ],
   "source": [
    "autovalor"
   ]
  },
  {
   "cell_type": "code",
   "execution_count": 25,
   "metadata": {
    "colab": {
     "base_uri": "https://localhost:8080/"
    },
    "id": "9FgpVXPKStr8",
    "outputId": "a61c406a-14b6-45cc-d898-44a6db854b22"
   },
   "outputs": [
    {
     "data": {
      "text/plain": [
       "array([[ 1.        , -0.99503719],\n",
       "       [ 0.        ,  0.09950372]])"
      ]
     },
     "execution_count": 25,
     "metadata": {},
     "output_type": "execute_result"
    }
   ],
   "source": [
    "autovector"
   ]
  },
  {
   "cell_type": "code",
   "execution_count": null,
   "metadata": {
    "id": "qWtdXd1SUIZv"
   },
   "outputs": [],
   "source": []
  },
  {
   "cell_type": "markdown",
   "metadata": {
    "id": "-B8GXeDxTcK1"
   },
   "source": [
    "# ¿Cual es el polinomio caracteristico?\n",
    "```\n",
    "\n",
    "matrix([[ 6,  3],\n",
    "        [14, 13]])\n",
    "\n",
    "```\n",
    "\n",
    "  $\\lambda^2-19\\lambda +36=0$"
   ]
  },
  {
   "cell_type": "code",
   "execution_count": 26,
   "metadata": {
    "colab": {
     "base_uri": "https://localhost:8080/"
    },
    "id": "jxINzdOKUSSx",
    "outputId": "569d9a8b-a0ea-46da-98f8-f2d6030ca06b"
   },
   "outputs": [
    {
     "data": {
      "text/plain": [
       "(-48+0j)"
      ]
     },
     "execution_count": 26,
     "metadata": {},
     "output_type": "execute_result"
    }
   ],
   "source": [
    "f = lambda x: x**2-19*x+36\n",
    "f(autovalor[1])"
   ]
  },
  {
   "cell_type": "code",
   "execution_count": 27,
   "metadata": {
    "id": "LwAMzk3aUeuP"
   },
   "outputs": [],
   "source": [
    "M = np.array([np.random.randint(0, 20, 3), np.random.randint(0, 20, 3),np.random.randint(0, 20, 3)])\n",
    "\n",
    "\n",
    "M1 = np.asmatrix(M)"
   ]
  },
  {
   "cell_type": "code",
   "execution_count": 28,
   "metadata": {
    "colab": {
     "base_uri": "https://localhost:8080/"
    },
    "id": "TP9yKR6rUeb_",
    "outputId": "93c04ecd-6093-4b5c-8cfd-680dcd495b0f"
   },
   "outputs": [
    {
     "data": {
      "text/plain": [
       "array([28.69174334+0.j        ,  0.65412833+1.01781722j,\n",
       "        0.65412833-1.01781722j])"
      ]
     },
     "execution_count": 28,
     "metadata": {},
     "output_type": "execute_result"
    }
   ],
   "source": [
    "autovalor, autovector = la.eig(M1)\n",
    "autovalor\n"
   ]
  },
  {
   "cell_type": "code",
   "execution_count": 29,
   "metadata": {},
   "outputs": [
    {
     "data": {
      "text/plain": [
       "array([314.07301253 +0.j        ,  22.96349373-18.00696102j,\n",
       "        22.96349373+18.00696102j])"
      ]
     },
     "execution_count": 29,
     "metadata": {},
     "output_type": "execute_result"
    }
   ],
   "source": [
    "f(autovalor)"
   ]
  },
  {
   "cell_type": "code",
   "execution_count": 30,
   "metadata": {
    "colab": {
     "base_uri": "https://localhost:8080/"
    },
    "id": "mfgrvaYEUz36",
    "outputId": "925e84ad-587d-4b1d-f8c3-f6fa22fc95f7"
   },
   "outputs": [
    {
     "data": {
      "text/plain": [
       "array([[ 0.349047  +0.j        ,  0.34764515+0.12415925j,\n",
       "         0.34764515-0.12415925j],\n",
       "       [ 0.53573592+0.j        ,  0.76314508+0.j        ,\n",
       "         0.76314508-0.j        ],\n",
       "       [ 0.76886489+0.j        , -0.52580228-0.06977734j,\n",
       "        -0.52580228+0.06977734j]])"
      ]
     },
     "execution_count": 30,
     "metadata": {},
     "output_type": "execute_result"
    }
   ],
   "source": [
    "autovector"
   ]
  },
  {
   "cell_type": "code",
   "execution_count": 31,
   "metadata": {
    "id": "4g3Bif5OXL3j"
   },
   "outputs": [],
   "source": [
    "# D = U.I@ E @ U"
   ]
  },
  {
   "cell_type": "markdown",
   "metadata": {
    "id": "pKmGWUKqNOnY"
   },
   "source": [
    "\n",
    "Se sabe que un sistema físico es gobernado por las ecuaciones,\n",
    "\n",
    "\n",
    "\n",
    "$$\n",
    "\\begin{matrix}\n",
    "x' &=& 2x&-y&+z, \\\\\n",
    "y' &=&   &3y&-1z, \\\\\n",
    "z' &=& 2x&+y&+3z,\n",
    "\\end{matrix}\n",
    "$$\n",
    "\n",
    "donde $x',y',z'$ son las derivadas, en forma vectorial esto se puede representar como $\\mathbf{r}'=A\\mathbf{r}$ que tiene solución analítica general, $\\mathbf{r} = e^{At} \\mathbf{r}(0)$.<br> \n",
    "a) Diagonalize $A$.<br> \n",
    "\n",
    "b) Use el hecho de que $f(A) = U f(D) U^{-1}$ para encontrar $x(t),y(t),z(t)$ en el intervalo de tiempo $[0,2]$.<br>.\n",
    "c) Grafique $x(t),y(t),z(t)$ (use la condición inicial $\\mathbf{r}(0)=(1,1,2))$.<br> \n",
    "d) Compare el resultado a la solución analítica,\n",
    "\n",
    "$$\n",
    "\\begin{align}\n",
    "2x & = x(0)(e^{2t}(1+e^{2t}-2t)) + y(0) (-2te^{2t}) + z(0)(e^{2t}(-1+e^{2t})), \\\\\n",
    "2y & = x(0)(-e^{2t}(-1+e^{2t}-2t)) + y(0)(2(t+1)e^{2t}) + z(0)(-e^{2t}(-1+e^{2t})), \\\\\n",
    "2z & = x(0)(e^{2t}(-1+e^{2t}+2t)) + y(0)(2te^{2t}) + z(0)(e^{2t}(1+e^{2t})).\n",
    "\\end{align}\n",
    "$$"
   ]
  },
  {
   "cell_type": "code",
   "execution_count": 32,
   "metadata": {
    "id": "32RrzfOXVImV"
   },
   "outputs": [],
   "source": [
    "x1 = np.array([2, -1, 1]) #Se escriben las ecuaciones.\n",
    "x2 = np.array([0, 3, -1])\n",
    "x3 = np.array([2, 1, +3])\n",
    "\n",
    "A = np.asmatrix([x1,x2,x3]) #Se crea la matriz usando las ecuaciones."
   ]
  },
  {
   "cell_type": "code",
   "execution_count": 33,
   "metadata": {
    "colab": {
     "base_uri": "https://localhost:8080/"
    },
    "id": "tpqvZOqwVIp4",
    "outputId": "4ceac2f6-87f9-42a0-dc94-7a1e71801979"
   },
   "outputs": [
    {
     "data": {
      "text/plain": [
       "numpy.matrix"
      ]
     },
     "execution_count": 33,
     "metadata": {},
     "output_type": "execute_result"
    }
   ],
   "source": [
    "type(A)"
   ]
  },
  {
   "cell_type": "code",
   "execution_count": 34,
   "metadata": {
    "id": "t2KoSM7OZG3B"
   },
   "outputs": [],
   "source": [
    "E, U = la.eig(A) "
   ]
  },
  {
   "cell_type": "code",
   "execution_count": 35,
   "metadata": {
    "colab": {
     "base_uri": "https://localhost:8080/"
    },
    "id": "icowNysIZLFf",
    "outputId": "956cca03-7e7d-45c0-bdde-e545b4490dc0"
   },
   "outputs": [
    {
     "data": {
      "text/plain": [
       "array([4.+0.j, 2.+0.j, 2.-0.j])"
      ]
     },
     "execution_count": 35,
     "metadata": {},
     "output_type": "execute_result"
    }
   ],
   "source": [
    "E.round()"
   ]
  },
  {
   "cell_type": "code",
   "execution_count": 36,
   "metadata": {
    "colab": {
     "base_uri": "https://localhost:8080/"
    },
    "id": "m2ZUay5YZNTS",
    "outputId": "5b8af645-17fd-48b2-c34a-751a0cb6d459"
   },
   "outputs": [
    {
     "data": {
      "text/plain": [
       "array([[-1.+0.j, -1.+0.j, -1.-0.j],\n",
       "       [ 1.+0.j,  1.+0.j,  1.-0.j],\n",
       "       [-1.+0.j,  1.-0.j,  1.+0.j]])"
      ]
     },
     "execution_count": 36,
     "metadata": {},
     "output_type": "execute_result"
    }
   ],
   "source": [
    "U.round()"
   ]
  },
  {
   "cell_type": "code",
   "execution_count": 37,
   "metadata": {
    "id": "ei-DcwQ7CPdR"
   },
   "outputs": [],
   "source": [
    "U = np.asmatrix(U)"
   ]
  },
  {
   "cell_type": "code",
   "execution_count": 38,
   "metadata": {
    "colab": {
     "base_uri": "https://localhost:8080/"
    },
    "id": "SzKHKuCHbsFV",
    "outputId": "230c8315-4de1-4274-b874-734a5732f8d8"
   },
   "outputs": [
    {
     "data": {
      "text/plain": [
       "matrix([[-1.+0.j, -1.+0.j, -1.-0.j],\n",
       "        [ 1.+0.j,  1.+0.j,  1.-0.j],\n",
       "        [-1.+0.j,  1.-0.j,  1.+0.j]])"
      ]
     },
     "execution_count": 38,
     "metadata": {},
     "output_type": "execute_result"
    }
   ],
   "source": [
    "U.round()"
   ]
  },
  {
   "cell_type": "code",
   "execution_count": 39,
   "metadata": {
    "id": "IUkM433tZXnd"
   },
   "outputs": [],
   "source": [
    "D = U.I @ (A @U) #Matriz diagonal."
   ]
  },
  {
   "cell_type": "code",
   "execution_count": 40,
   "metadata": {
    "colab": {
     "base_uri": "https://localhost:8080/"
    },
    "id": "wFHw_EzIZXkQ",
    "outputId": "7fdb6b07-7e00-4825-c493-a4f69d9652a3"
   },
   "outputs": [
    {
     "data": {
      "text/plain": [
       "matrix([[ 4.+0.j, -0.-0.j, -0.-0.j],\n",
       "        [-0.-0.j,  2.+0.j,  0.-0.j],\n",
       "        [-0.+0.j,  0.+0.j,  2.-0.j]])"
      ]
     },
     "execution_count": 40,
     "metadata": {},
     "output_type": "execute_result"
    }
   ],
   "source": [
    "D.round()"
   ]
  },
  {
   "cell_type": "code",
   "execution_count": 41,
   "metadata": {
    "colab": {
     "base_uri": "https://localhost:8080/"
    },
    "id": "JsCJ1Z4kYxlz",
    "outputId": "94083cca-ed69-4a48-ffd3-2b01453ea41f"
   },
   "outputs": [
    {
     "data": {
      "text/plain": [
       "array([4.+0.j, 2.+0.j, 2.-0.j])"
      ]
     },
     "execution_count": 41,
     "metadata": {},
     "output_type": "execute_result"
    }
   ],
   "source": [
    "E.round()"
   ]
  },
  {
   "cell_type": "code",
   "execution_count": 42,
   "metadata": {
    "colab": {
     "base_uri": "https://localhost:8080/"
    },
    "id": "vdNt_9kNbyFB",
    "outputId": "eff0c50a-ee3e-457d-9483-b38550c70381"
   },
   "outputs": [
    {
     "data": {
      "text/plain": [
       "array([[4.+0.j, 0.+0.j, 0.+0.j],\n",
       "       [0.+0.j, 2.+0.j, 0.+0.j],\n",
       "       [0.+0.j, 0.+0.j, 2.-0.j]])"
      ]
     },
     "execution_count": 42,
     "metadata": {},
     "output_type": "execute_result"
    }
   ],
   "source": [
    "np.diag(E, 0).round()"
   ]
  },
  {
   "cell_type": "code",
   "execution_count": 43,
   "metadata": {
    "colab": {
     "base_uri": "https://localhost:8080/"
    },
    "id": "1kzYktAcY8CI",
    "outputId": "cfe6c498-8ffb-46b3-ead9-5579f23f1f83"
   },
   "outputs": [
    {
     "data": {
      "text/plain": [
       "array([1.+0.j, 1.+0.j, 1.+0.j])"
      ]
     },
     "execution_count": 43,
     "metadata": {},
     "output_type": "execute_result"
    }
   ],
   "source": [
    "f = lambda t: np.exp(E*t) #Se define la función usando la matriz diagonal.\n",
    "r0=np.array([1,1,2])\n",
    "f(0)"
   ]
  },
  {
   "cell_type": "code",
   "execution_count": 45,
   "metadata": {},
   "outputs": [],
   "source": [
    "def x_(t): #Función para x(t) usando fA y r0\n",
    "    Diagonal = np.diag(f(t), 0)\n",
    "    f_A = U@(Diagonal@U.I)\n",
    "    r1 = f_A@r0\n",
    "    r=r1.tolist()\n",
    "    return r[0][0]\n"
   ]
  },
  {
   "cell_type": "code",
   "execution_count": 46,
   "metadata": {},
   "outputs": [],
   "source": [
    "def y_(t):  #Función para y(t) usando fA y r0\n",
    "    Diagonal = np.diag(f(t), 0)\n",
    "    f_A = U@(Diagonal@U.I)\n",
    "    r1 = f_A@r0\n",
    "    r=r1.tolist()\n",
    "    return r[0][1]"
   ]
  },
  {
   "cell_type": "code",
   "execution_count": 47,
   "metadata": {},
   "outputs": [],
   "source": [
    "def z_(t):  #Función para z(t) usando fA y r0\n",
    "    Diagonal = np.diag(f(t), 0)\n",
    "    f_A = U@(Diagonal@U.I)\n",
    "    r1 = f_A@r0 # r(t) = (U F(D) U-1) r(0)\n",
    "    r=r1.tolist() \n",
    "    return r[0][2]"
   ]
  },
  {
   "cell_type": "code",
   "execution_count": 48,
   "metadata": {},
   "outputs": [],
   "source": [
    "t = np.linspace(0,2,100) #Intervalo para t.\n",
    "xf_=np.array([x_(t[i]) for i in range(len(t))]) #Se usa el intevalo de t para crear un array con los valores de x(t), y(t) y z(t).\n",
    "yf_=np.array([y_(t[i]) for i in range(len(t))])\n",
    "zf_=np.array([z_(t[i]) for i in range(len(t))])"
   ]
  },
  {
   "cell_type": "code",
   "execution_count": 71,
   "metadata": {
    "scrolled": true
   },
   "outputs": [
    {
     "name": "stderr",
     "output_type": "stream",
     "text": [
      "C:\\Users\\JAMER_PC\\anaconda3\\lib\\site-packages\\numpy\\core\\_asarray.py:83: ComplexWarning: Casting complex values to real discards the imaginary part\n",
      "  return array(a, dtype, copy=False, order=order)\n",
      "C:\\Users\\JAMER_PC\\anaconda3\\lib\\site-packages\\numpy\\core\\_asarray.py:83: ComplexWarning: Casting complex values to real discards the imaginary part\n",
      "  return array(a, dtype, copy=False, order=order)\n",
      "C:\\Users\\JAMER_PC\\anaconda3\\lib\\site-packages\\numpy\\core\\_asarray.py:83: ComplexWarning: Casting complex values to real discards the imaginary part\n",
      "  return array(a, dtype, copy=False, order=order)\n"
     ]
    },
    {
     "data": {
      "image/png": "[encoded data removed]",
      "text/plain": [
       "<Figure size 432x288 with 1 Axes>"
      ]
     },
     "metadata": {
      "needs_background": "light"
     },
     "output_type": "display_data"
    }
   ],
   "source": [
    "import matplotlib.pylab as plt\n",
    "plt.plot(t,xf_, label=\"x(t)\")\n",
    "plt.plot(t,yf_, label=\"y(t)\")\n",
    "plt.plot(t,zf_, label=\"z(t)\")\n",
    "plt.xlabel(\"t\")\n",
    "plt.legend()\n",
    "plt.show()\n",
    "\n",
    "\n"
   ]
  },
  {
   "cell_type": "code",
   "execution_count": 50,
   "metadata": {},
   "outputs": [
    {
     "name": "stderr",
     "output_type": "stream",
     "text": [
      "C:\\Users\\JAMER_PC\\anaconda3\\lib\\site-packages\\numpy\\core\\_asarray.py:83: ComplexWarning: Casting complex values to real discards the imaginary part\n",
      "  return array(a, dtype, copy=False, order=order)\n"
     ]
    },
    {
     "data": {
      "image/png": "[encoded data removed]",
      "text/plain": [
       "<Figure size 432x288 with 1 Axes>"
      ]
     },
     "metadata": {
      "needs_background": "light"
     },
     "output_type": "display_data"
    }
   ],
   "source": [
    "fig=plt.figure() #Creación de figura en 3D.\n",
    "graf=fig.add_subplot(projection='3d')\n",
    "graf.plot(xf_,yf_,zf_, c='b')\n",
    "plt.show()"
   ]
  },
  {
   "cell_type": "code",
   "execution_count": 73,
   "metadata": {},
   "outputs": [],
   "source": [
    "#Definición de funciones a partir de la solución analítica.\n",
    "\n",
    "x=lambda t: (r0[0]*(np.exp(2*t)*(1+np.exp(2*t)-2*t))+r0[1]*(-2*t*np.exp(2*t))+r0[2]*(np.exp(2*t)*(-1+np.exp(2*t))))/2\n",
    "y=lambda t: (r0[0]*(-np.exp(2*t)*(-1+np.exp(2*t)-2*t))+r0[1]*(2*(t+1)*np.exp(2*t))+r0[2]*(-np.exp(2*t)*(-1+np.exp(2*t))))/2\n",
    "z=lambda t: (r0[0]*(np.exp(2*t)*(-1+np.exp(2*t)+2*t))+r0[1]*2*t*np.exp(2*t)+r0[2]*np.exp(2*t)*(1+np.exp(2*t)))/2\n"
   ]
  },
  {
   "cell_type": "code",
   "execution_count": 75,
   "metadata": {},
   "outputs": [
    {
     "data": {
      "image/png": "[encoded data removed]",
      "text/plain": [
       "<Figure size 432x288 with 1 Axes>"
      ]
     },
     "metadata": {
      "needs_background": "light"
     },
     "output_type": "display_data"
    }
   ],
   "source": [
    "#Gráfica usando la solución analítica.\n",
    "plt.plot(t,x(t), label=\"x(t)\")\n",
    "plt.plot(t,y(t), label=\"y(t)\")\n",
    "plt.plot(t,z(t), label=\"z(t)\")\n",
    "plt.xlabel(\"t\")\n",
    "plt.legend()\n",
    "plt.grid()\n",
    "plt.show()\n"
   ]
  },
  {
   "cell_type": "markdown",
   "metadata": {
    "id": "olkS6OHoaYPx"
   },
   "source": [
    " $\\mathbf{r}'=A\\mathbf{r}$\n",
    "\n",
    "\n",
    " $f(A) =U f(D) U^{-1}$\n",
    "\n",
    "\n",
    " e^{At} = U e^(D) U ^{-1}"
   ]
  },
  {
   "cell_type": "markdown",
   "metadata": {
    "id": "IcmCVH33NOjy"
   },
   "source": [
    "\n",
    "2. Un proceso para encriptar un mensaje secreto es usar cierta matrix cuadrada cuyos elementos son enteros con elementos enteros en la inversa. Se recibe un mensaje, se asigna un número a cada letra Por ejemplo, A=1, B=2, C=3, ... etc y espacio=27), se arreglan los números en una matriz de izquierda a derecha en cada fila, donde el número de elementos en la fila es igual al tamano de la matriz de codigo, se multiplica esa matriz por la matriz de código por la derecha, se transcribe el mensaje en una cadena de números y se manda el mensaje. \n",
    "\n",
    "La persona que debe recibir el mensaje conoce la matriz de codigo. El o ellla arrelgan el mensaje encriptado en una matriz de izquierda a derecha en cada fila, en donde el numero de elementos en una fila conicide con el tamano de la matriz de codigo muplicada por la derecha, por el inverso de la matriz de código y puede leer mensaje decodificado.\n",
    "\n",
    "Usted a recibido el siguiente mensaje que fue encriptado usando la matriz A. Decodifiquelo.\n",
    "\n",
    "```\n",
    "A = matrix([[ 1,  2, -3,  4,  5],\n",
    "        [-2, -5,  8, -8, -9],\n",
    "        [ 1,  2, -2,  7,  9],\n",
    "        [ 1,  1,  0,  6, 12],\n",
    "        [ 2,  4, -6,  8, 11]])\n",
    "```\n",
    "\n",
    "Mensaje\n",
    "\n",
    "47,49,-19,257,487,10,-9,63,137,236, 79,142,-184,372,536,59,70,-40,332,588, \n",
    "\n",
    "la primera fila del mensaje es 47,49,-19,257,487\n",
    "\n",
    "¿Cual es el mensaje?\n",
    "\n"
   ]
  },
  {
   "cell_type": "markdown",
   "metadata": {
    "id": "bmekAD3oNOg0"
   },
   "source": [
    "\n",
    "\n",
    "```\n",
    "abc=['A','B','C','D','E','F','G','H','I','J','K','L','M','N','O','P','Q','R','S','T','U','V','W','X','Y','Z',' ']\n",
    "num=['1','2','3','4','5','6','7','8','9','10','11','12','13','14','15','16','17','18','19','20','21','22','23','24','25','26','27']\n",
    "```\n"
   ]
  },
  {
   "cell_type": "markdown",
   "metadata": {
    "id": "KL0-AvnOwdtB"
   },
   "source": [
    "3. Construir un programa que permita realizar la multiplicacion de dos matrices. El programa debe establecer si las matrices se pueden multiplicar.\n"
   ]
  },
  {
   "cell_type": "code",
   "execution_count": 52,
   "metadata": {
    "id": "CDFLZNITffTW"
   },
   "outputs": [],
   "source": [
    "A = np.matrix([[ 1,  2, -3,  4,  5], #Se define la matirz A\n",
    "        [-2, -5,  8, -8, -9],\n",
    "        [ 1,  2, -2,  7,  9],\n",
    "        [ 1,  1,  0,  6, 12],\n",
    "        [ 2,  4, -6,  8, 11]])\n"
   ]
  },
  {
   "cell_type": "code",
   "execution_count": 53,
   "metadata": {},
   "outputs": [],
   "source": [
    "B=np.matrix([[47,49,-19,257,487], #Se ubica el mensaje en una matriz.\n",
    "        [10,-9,63,137,236],\n",
    "        [ 79,142,-184,372,536],\n",
    "        [ 59,70,-40,332,588]])\n"
   ]
  },
  {
   "cell_type": "code",
   "execution_count": 54,
   "metadata": {},
   "outputs": [
    {
     "data": {
      "text/plain": [
       "matrix([[ 14.,   1.,  -2.,   1.,  -5.],\n",
       "        [ 22.,  -7.,  -4.,   6., -19.],\n",
       "        [ 13.,  -3.,  -2.,   3., -10.],\n",
       "        [ -2.,   1.,   1.,  -1.,   2.],\n",
       "        [ -2.,  -0.,  -0.,  -0.,   1.]])"
      ]
     },
     "execution_count": 54,
     "metadata": {},
     "output_type": "execute_result"
    }
   ],
   "source": [
    "Ai=np.linalg.inv(A) #Inversa de la matriz A\n",
    "Ai"
   ]
  },
  {
   "cell_type": "code",
   "execution_count": 55,
   "metadata": {},
   "outputs": [
    {
     "data": {
      "text/plain": [
       "matrix([[ 1., 18.,  5., 27., 25.],\n",
       "        [15., 21., 27.,  8.,  1.],\n",
       "        [22.,  9., 14.,  7., 27.],\n",
       "        [ 6., 21., 14., 27., 27.]])"
      ]
     },
     "execution_count": 55,
     "metadata": {},
     "output_type": "execute_result"
    }
   ],
   "source": [
    "D=B@Ai #Se multiplica la matriz del mensaje con la matriz inversa de A.\n",
    "D"
   ]
  },
  {
   "cell_type": "code",
   "execution_count": 56,
   "metadata": {},
   "outputs": [],
   "source": [
    "abc=['A','B','C','D','E','F','G','H','I','J','K','L','M','N','O','P','Q','R','S','T','U','V','W','X','Y','Z',' ']\n",
    "num=['1','2','3','4','5','6','7','8','9','10','11','12','13','14','15','16','17','18','19','20','21','22','23','24','25','26','27']"
   ]
  },
  {
   "cell_type": "code",
   "execution_count": 57,
   "metadata": {},
   "outputs": [
    {
     "data": {
      "text/plain": [
       "27"
      ]
     },
     "execution_count": 57,
     "metadata": {},
     "output_type": "execute_result"
    }
   ],
   "source": [
    "round(D[3,3])"
   ]
  },
  {
   "cell_type": "code",
   "execution_count": 58,
   "metadata": {
    "scrolled": false
   },
   "outputs": [],
   "source": [
    "z=D.tolist() #Los valores de la matriz se agregan a una lista"
   ]
  },
  {
   "cell_type": "code",
   "execution_count": 59,
   "metadata": {},
   "outputs": [],
   "source": [
    "l=[round(z[0][i]) for i in range(5)] #Se rodea el número y se agrega a una lista las fila de D"
   ]
  },
  {
   "cell_type": "code",
   "execution_count": 60,
   "metadata": {},
   "outputs": [
    {
     "data": {
      "text/plain": [
       "[1, 18, 5, 27, 25, 15, 21, 27, 8, 1, 22, 9, 14, 7, 27, 6, 21, 14, 27, 27]"
      ]
     },
     "execution_count": 60,
     "metadata": {},
     "output_type": "execute_result"
    }
   ],
   "source": [
    "for j in range(1,4): #Se agrega a la lista los valores de D.\n",
    " l=l+[round(z[j][i]) for i in range(5)]\n",
    "l"
   ]
  },
  {
   "cell_type": "code",
   "execution_count": 61,
   "metadata": {},
   "outputs": [
    {
     "data": {
      "text/plain": [
       "['A',\n",
       " 'R',\n",
       " 'E',\n",
       " ' ',\n",
       " 'Y',\n",
       " 'O',\n",
       " 'U',\n",
       " ' ',\n",
       " 'H',\n",
       " 'A',\n",
       " 'V',\n",
       " 'I',\n",
       " 'N',\n",
       " 'G',\n",
       " ' ',\n",
       " 'F',\n",
       " 'U',\n",
       " 'N',\n",
       " ' ',\n",
       " ' ']"
      ]
     },
     "execution_count": 61,
     "metadata": {},
     "output_type": "execute_result"
    }
   ],
   "source": [
    "fin=[abc[l[i]-1] for i in range(len(l))] #Se usa la lista l para encontrar las letras correspondientes en la lista abc.\n",
    "fin"
   ]
  },
  {
   "cell_type": "code",
   "execution_count": 62,
   "metadata": {},
   "outputs": [],
   "source": [
    "for k in range(1,len(fin)): #Se organiza y se obtiene la primera fila donde está el mensaje enviado.\n",
    " fin[0]+=fin[k]\n",
    "    \n"
   ]
  },
  {
   "cell_type": "code",
   "execution_count": 78,
   "metadata": {},
   "outputs": [
    {
     "name": "stdout",
     "output_type": "stream",
     "text": [
      "El mensaje es: ARE YOU HAVING FUN  \n"
     ]
    }
   ],
   "source": [
    "print('El mensaje es: %s' %fin[0]) "
   ]
  },
  {
   "cell_type": "code",
   "execution_count": null,
   "metadata": {},
   "outputs": [],
   "source": []
  }
 ],
 "metadata": {
  "colab": {
   "name": "sesion13_Matrices.ipynb",
   "provenance": []
  },
  "kernelspec": {
   "display_name": "Python 3",
   "language": "python",
   "name": "python3"
  },
  "language_info": {
   "codemirror_mode": {
    "name": "ipython",
    "version": 3
   },
   "file_extension": ".py",
   "mimetype": "text/x-python",
   "name": "python",
   "nbconvert_exporter": "python",
   "pygments_lexer": "ipython3",
   "version": "3.8.5"
  }
 },
 "nbformat": 4,
 "nbformat_minor": 1
}
